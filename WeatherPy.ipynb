{
 "cells": [
  {
   "cell_type": "markdown",
   "metadata": {},
   "source": [
    "# WeatherPy\n",
    "\n",
    "---\n",
    "\n",
    "## Starter Code to Generate Random Geographic Coordinates and a List of Cities"
   ]
  },
  {
   "cell_type": "code",
   "execution_count": 30,
   "metadata": {
    "scrolled": true
   },
   "outputs": [],
   "source": [
    "# Dependencies and Setup\n",
    "import matplotlib.pyplot as plt\n",
    "import pandas as pd\n",
    "import numpy as np\n",
    "import requests\n",
    "import time\n",
    "import citipy\n",
    "from scipy.stats import linregress\n",
    "from api_keys import weather_api_key\n",
    "# Import citipy to determine the cities based on latitude and longitude\n",
    "\n",
    "# import dependencies\n",
    "import random # random to generate random latitude and longitudes\n",
    "import time \n",
    "import seaborn as sns # seaborn library to set the aesthetics for the graphs\n",
    "from datetime import datetime\n"
   ]
  },
  {
   "cell_type": "code",
   "execution_count": 31,
   "metadata": {},
   "outputs": [],
   "source": [
    "\n",
    "cities_path = \"cities.csv\"\n",
    "\n",
    "cities_df = pd.read_csv(cities_path)"
   ]
  },
  {
   "cell_type": "markdown",
   "metadata": {},
   "source": [
    "### Generate the Cities List by Using the `citipy` Library"
   ]
  },
  {
   "cell_type": "code",
   "execution_count": 32,
   "metadata": {},
   "outputs": [
    {
     "name": "stdout",
     "output_type": "stream",
     "text": [
      "Number of cities in the list: 392\n"
     ]
    }
   ],
   "source": [
    "# Empty list for holding the latitude and longitude combinations\n",
    "lat_lngs = []\n",
    "\n",
    "# Empty list for holding the cities names\n",
    "cities = []\n",
    "\n",
    "# Range of latitudes and longitudes\n",
    "lat_range = (-90, 90)\n",
    "lng_range = (-180, 180)\n",
    "\n",
    "# Create a set of random lat and lng combinations\n",
    "lats = np.random.uniform(lat_range[0], lat_range[1], size=1500)\n",
    "lngs = np.random.uniform(lng_range[0], lng_range[1], size=1500)\n",
    "lat_lngs = zip(lats, lngs)\n",
    "\n",
    "# Identify nearest city for each lat, lng combination\n",
    "for lat_lng in lat_lngs:\n",
    "    \n",
    "    city = citipy.nearest_city(lat_lng[0], lat_lng[1]).city_name\n",
    "    \n",
    "    # If the city is unique, then add it to a our cities list\n",
    "    if city not in cities:\n",
    "        cities.append(city)\n",
    "\n",
    "# Print the city count to confirm sufficient count\n",
    "print(f\"Number of cities in the list: {len(cities)}\")\n",
    "\n",
    "\n"
   ]
  },
  {
   "cell_type": "markdown",
   "metadata": {},
   "source": [
    "---"
   ]
  },
  {
   "cell_type": "markdown",
   "metadata": {},
   "source": [
    "## Requirement 1: Create Plots to Showcase the Relationship Between Weather Variables and Latitude\n",
    "\n",
    "### Use the OpenWeatherMap API to retrieve weather data from the cities list generated in the started code"
   ]
  },
  {
   "cell_type": "code",
   "execution_count": 33,
   "metadata": {},
   "outputs": [
    {
     "name": "stdout",
     "output_type": "stream",
     "text": [
      "Beginning Data Retrieval     \n",
      "-----------------------------\n",
      "Processing Record 1 of Set 1 | ribeira grande\n",
      "{'coord': {'lon': -28.7, 'lat': 38.5167}, 'weather': [{'id': 802, 'main': 'Clouds', 'description': 'scattered clouds', 'icon': '03d'}], 'base': 'stations', 'main': {'temp': 64.8, 'feels_like': 64.83, 'temp_min': 64.78, 'temp_max': 64.8, 'pressure': 1010, 'humidity': 82}, 'visibility': 10000, 'wind': {'speed': 19.57, 'deg': 260}, 'clouds': {'all': 40}, 'dt': 1671472447, 'sys': {'type': 1, 'id': 6883, 'country': 'PT', 'sunrise': 1671440856, 'sunset': 1671474968}, 'timezone': -3600, 'id': 3372707, 'name': 'Ribeira Grande', 'cod': 200}\n",
      "Processing Record 2 of Set 1 | hermanus\n",
      "Processing Record 3 of Set 1 | khatanga\n",
      "Processing Record 4 of Set 1 | kloulklubed\n",
      "Processing Record 5 of Set 1 | atuona\n",
      "Processing Record 6 of Set 1 | avarua\n",
      "Processing Record 7 of Set 1 | rikitea\n",
      "Processing Record 8 of Set 1 | codrington\n",
      "Processing Record 9 of Set 1 | stornoway\n",
      "Processing Record 10 of Set 1 | ahipara\n",
      "Processing Record 11 of Set 1 | tautira\n",
      "Processing Record 12 of Set 1 | neiafu\n",
      "Processing Record 13 of Set 1 | bredasdorp\n",
      "Processing Record 14 of Set 1 | cabo san lucas\n",
      "Processing Record 15 of Set 1 | smithers\n",
      "Processing Record 16 of Set 1 | meulaboh\n",
      "Processing Record 17 of Set 1 | tasiilaq\n",
      "Processing Record 18 of Set 1 | alofi\n",
      "Processing Record 19 of Set 1 | carnarvon\n",
      "Processing Record 20 of Set 1 | punta arenas\n",
      "Processing Record 21 of Set 1 | thompson\n",
      "Processing Record 22 of Set 1 | nanortalik\n",
      "Processing Record 23 of Set 1 | ostrovnoy\n",
      "Processing Record 24 of Set 1 | dong hoi\n",
      "Processing Record 25 of Set 1 | puerto ayora\n",
      "Processing Record 26 of Set 1 | nikolskoye\n",
      "Processing Record 27 of Set 1 | walvis bay\n",
      "Processing Record 28 of Set 1 | butaritari\n",
      "Processing Record 29 of Set 1 | hilo\n",
      "Processing Record 30 of Set 1 | sitka\n",
      "Processing Record 31 of Set 1 | tomatlan\n",
      "Processing Record 32 of Set 1 | rocha\n",
      "Processing Record 33 of Set 1 | geraldton\n",
      "Processing Record 34 of Set 1 | kodiak\n",
      "Processing Record 35 of Set 1 | sorland\n",
      "Processing Record 36 of Set 1 | srednekolymsk\n",
      "Processing Record 37 of Set 1 | ulladulla\n",
      "Processing Record 38 of Set 1 | lavrentiya\n",
      "Processing Record 39 of Set 1 | iqaluit\n",
      "Processing Record 40 of Set 1 | busselton\n",
      "Processing Record 41 of Set 1 | cedar city\n",
      "Processing Record 42 of Set 1 | cacahuatepec\n",
      "Processing Record 43 of Set 1 | egvekinot\n",
      "Processing Record 44 of Set 1 | praya\n",
      "Processing Record 45 of Set 1 | new norfolk\n",
      "Processing Record 46 of Set 1 | aksu\n",
      "Processing Record 47 of Set 1 | isangel\n",
      "Processing Record 48 of Set 1 | freetown\n",
      "Processing Record 49 of Set 1 | acajutla\n",
      "Processing Record 50 of Set 1 | kapaa\n",
      "Processing Record 0 of Set 2 | dikson\n",
      "Processing Record 1 of Set 2 | kamloops\n",
      "Processing Record 2 of Set 2 | lanzhou\n",
      "Processing Record 3 of Set 2 | sur\n",
      "Processing Record 4 of Set 2 | tuktoyaktuk\n",
      "Processing Record 5 of Set 2 | kingman\n",
      "Processing Record 6 of Set 2 | verkhniye achaluki\n",
      "Processing Record 7 of Set 2 | thinadhoo\n",
      "Processing Record 8 of Set 2 | namibe\n",
      "Processing Record 9 of Set 2 | cabedelo\n",
      "Processing Record 10 of Set 2 | moroni\n",
      "Processing Record 11 of Set 2 | saint-pierre\n",
      "Processing Record 12 of Set 2 | bengkulu\n",
      "Processing Record 13 of Set 2 | hasaki\n",
      "Processing Record 14 of Set 2 | maragogi\n",
      "Processing Record 15 of Set 2 | bluff\n",
      "Processing Record 16 of Set 2 | grimmen\n",
      "Processing Record 17 of Set 2 | naberera\n",
      "Processing Record 18 of Set 2 | port alfred\n",
      "Processing Record 19 of Set 2 | derzhavinsk\n",
      "Processing Record 20 of Set 2 | terra santa\n",
      "Processing Record 21 of Set 2 | vila velha\n",
      "Processing Record 22 of Set 2 | husavik\n",
      "Processing Record 23 of Set 2 | aberdeen\n",
      "Processing Record 24 of Set 2 | tikrit\n",
      "Processing Record 25 of Set 2 | luderitz\n",
      "Processing Record 26 of Set 2 | mogadishu\n",
      "Processing Record 27 of Set 2 | pevek\n",
      "Processing Record 28 of Set 2 | arraial do cabo\n",
      "Processing Record 29 of Set 2 | lemoore\n",
      "Processing Record 30 of Set 2 | esperance\n",
      "Processing Record 31 of Set 2 | sol-iletsk\n",
      "Processing Record 32 of Set 2 | bandarbeyla\n",
      "Processing Record 33 of Set 2 | almaznyy\n",
      "Processing Record 34 of Set 2 | yangliuqing\n",
      "Processing Record 35 of Set 2 | barrow\n",
      "Processing Record 36 of Set 2 | cap malheureux\n",
      "Processing Record 37 of Set 2 | tabou\n",
      "Processing Record 38 of Set 2 | saldanha\n",
      "Processing Record 39 of Set 2 | kalemie\n",
      "Processing Record 40 of Set 2 | the valley\n",
      "Processing Record 41 of Set 2 | bambous virieux\n",
      "Processing Record 42 of Set 2 | christchurch\n",
      "Processing Record 43 of Set 2 | todos santos\n",
      "Processing Record 44 of Set 2 | bathsheba\n",
      "Processing Record 45 of Set 2 | sao filipe\n",
      "Processing Record 46 of Set 2 | petropavlovsk-kamchatskiy\n",
      "Processing Record 47 of Set 2 | nouadhibou\n",
      "Processing Record 48 of Set 2 | klaksvik\n",
      "Processing Record 49 of Set 2 | rameswaram\n",
      "Processing Record 0 of Set 3 | chapais\n",
      "Processing Record 1 of Set 3 | grindavik\n",
      "Processing Record 2 of Set 3 | carlyle\n",
      "Processing Record 3 of Set 3 | inhambane\n",
      "Processing Record 4 of Set 3 | lebu\n",
      "Processing Record 5 of Set 3 | ushuaia\n",
      "Processing Record 6 of Set 3 | pisco\n",
      "Processing Record 7 of Set 3 | nicoya\n",
      "Processing Record 8 of Set 3 | gamboma\n",
      "Processing Record 9 of Set 3 | antofagasta\n",
      "Processing Record 10 of Set 3 | souillac\n",
      "Processing Record 11 of Set 3 | coquimbo\n",
      "Processing Record 12 of Set 3 | samandag\n",
      "Processing Record 13 of Set 3 | taitung\n",
      "Processing Record 14 of Set 3 | chunhuhub\n",
      "Processing Record 15 of Set 3 | quatre cocos\n",
      "Processing Record 16 of Set 3 | lakki marwat\n",
      "Processing Record 17 of Set 3 | caravelas\n",
      "Processing Record 18 of Set 3 | hobart\n",
      "Processing Record 19 of Set 3 | charters towers\n",
      "Processing Record 20 of Set 3 | yellowknife\n",
      "Processing Record 21 of Set 3 | ladario\n",
      "Processing Record 22 of Set 3 | cherskiy\n",
      "Processing Record 23 of Set 3 | saint-philippe\n",
      "Processing Record 24 of Set 3 | calabozo\n",
      "Processing Record 25 of Set 3 | grand gaube\n",
      "Processing Record 26 of Set 3 | la ronge\n",
      "Processing Record 27 of Set 3 | torbay\n",
      "Processing Record 28 of Set 3 | port blair\n",
      "Processing Record 29 of Set 3 | singkang\n",
      "Processing Record 30 of Set 3 | upernavik\n",
      "Processing Record 31 of Set 3 | batagay-alyta\n",
      "Processing Record 32 of Set 3 | bambanglipuro\n",
      "Processing Record 33 of Set 3 | komsomolskiy\n",
      "Processing Record 34 of Set 3 | longyearbyen\n",
      "Processing Record 35 of Set 3 | bumba\n",
      "Processing Record 36 of Set 3 | severo-kurilsk\n",
      "Processing Record 37 of Set 3 | bogande\n",
      "Processing Record 38 of Set 3 | hithadhoo\n",
      "Processing Record 39 of Set 3 | touros\n",
      "Processing Record 40 of Set 3 | aktau\n",
      "Processing Record 41 of Set 3 | cayenne\n",
      "Processing Record 42 of Set 3 | simao\n",
      "Processing Record 43 of Set 3 | sao miguel do araguaia\n",
      "Processing Record 44 of Set 3 | east london\n",
      "Processing Record 45 of Set 3 | saryg-sep\n",
      "Processing Record 46 of Set 3 | ipixuna\n",
      "Processing Record 47 of Set 3 | airai\n",
      "Processing Record 48 of Set 3 | provideniya\n",
      "Processing Record 49 of Set 3 | buala\n",
      "Processing Record 0 of Set 4 | vaini\n",
      "Processing Record 1 of Set 4 | narwar\n",
      "Processing Record 2 of Set 4 | rindal\n",
      "Processing Record 3 of Set 4 | abu zabad\n",
      "Processing Record 4 of Set 4 | chokurdakh\n",
      "Processing Record 5 of Set 4 | homer\n",
      "Processing Record 6 of Set 4 | qaanaaq\n",
      "Processing Record 7 of Set 4 | quesnel\n",
      "Processing Record 8 of Set 4 | aklavik\n",
      "Processing Record 9 of Set 4 | kamen-rybolov\n",
      "Processing Record 10 of Set 4 | port elizabeth\n",
      "Processing Record 11 of Set 4 | beitbridge\n",
      "Processing Record 12 of Set 4 | faya\n",
      "Processing Record 13 of Set 4 | tiksi\n",
      "Processing Record 14 of Set 4 | tsalka\n",
      "Processing Record 15 of Set 4 | kirakira\n",
      "Processing Record 16 of Set 4 | puerto del rosario\n",
      "Processing Record 17 of Set 4 | cape town\n",
      "Processing Record 18 of Set 4 | ancud\n",
      "Processing Record 19 of Set 4 | dicabisagan\n",
      "Processing Record 20 of Set 4 | port hardy\n",
      "Processing Record 21 of Set 4 | kaitangata\n",
      "Processing Record 22 of Set 4 | fortuna\n",
      "Processing Record 23 of Set 4 | beaune\n",
      "Processing Record 24 of Set 4 | tatarsk\n",
      "Processing Record 25 of Set 4 | sakakah\n",
      "Processing Record 26 of Set 4 | merauke\n",
      "Processing Record 27 of Set 4 | lichuan\n",
      "Processing Record 28 of Set 4 | pali\n",
      "Processing Record 29 of Set 4 | sabang\n",
      "Processing Record 30 of Set 4 | port lincoln\n",
      "Processing Record 31 of Set 4 | ouallam\n",
      "Processing Record 32 of Set 4 | tchaourou\n",
      "Processing Record 33 of Set 4 | llata\n",
      "Processing Record 34 of Set 4 | galegos\n",
      "Processing Record 35 of Set 4 | ust-koksa\n"
     ]
    },
    {
     "name": "stdout",
     "output_type": "stream",
     "text": [
      "Processing Record 36 of Set 4 | san cristobal\n",
      "Processing Record 37 of Set 4 | mana\n",
      "Processing Record 38 of Set 4 | redmond\n",
      "Processing Record 39 of Set 4 | port moresby\n",
      "Processing Record 40 of Set 4 | port-de-bouc\n",
      "Processing Record 41 of Set 4 | tagusao\n",
      "Processing Record 42 of Set 4 | sambava\n",
      "Processing Record 43 of Set 4 | fayaoue\n",
      "Processing Record 44 of Set 4 | pingliang\n",
      "Processing Record 45 of Set 4 | colares\n",
      "Processing Record 46 of Set 4 | norman wells\n",
      "Processing Record 47 of Set 4 | kailua\n",
      "Processing Record 48 of Set 4 | vryburg\n",
      "Processing Record 49 of Set 4 | kruisfontein\n",
      "Processing Record 0 of Set 5 | lerik\n",
      "Processing Record 1 of Set 5 | verkh-suetka\n",
      "Processing Record 2 of Set 5 | nuevo laredo\n",
      "Processing Record 3 of Set 5 | nalut\n",
      "Processing Record 4 of Set 5 | mahebourg\n",
      "Processing Record 5 of Set 5 | tandil\n",
      "Processing Record 6 of Set 5 | guerrero negro\n",
      "Processing Record 7 of Set 5 | tessalit\n",
      "Processing Record 8 of Set 5 | zhongshan\n",
      "Processing Record 9 of Set 5 | tilichiki\n",
      "Processing Record 10 of Set 5 | beringovskiy\n",
      "Processing Record 11 of Set 5 | sao joao da barra\n",
      "Processing Record 12 of Set 5 | aripuana\n",
      "Processing Record 13 of Set 5 | lahij\n",
      "Processing Record 14 of Set 5 | woodward\n",
      "Processing Record 15 of Set 5 | bocana de paiwas\n",
      "Processing Record 16 of Set 5 | baruun-urt\n",
      "Processing Record 17 of Set 5 | qostanay\n",
      "Processing Record 18 of Set 5 | faanui\n",
      "Processing Record 19 of Set 5 | araouane\n",
      "Processing Record 20 of Set 5 | pemba\n",
      "Processing Record 21 of Set 5 | vila franca do campo\n",
      "Processing Record 22 of Set 5 | hay river\n",
      "Processing Record 23 of Set 5 | sfantu gheorghe\n",
      "Processing Record 24 of Set 5 | nova olimpia\n",
      "Processing Record 25 of Set 5 | valparaiso\n",
      "Processing Record 26 of Set 5 | lompoc\n",
      "Processing Record 27 of Set 5 | aksarka\n",
      "Processing Record 28 of Set 5 | olafsvik\n",
      "Processing Record 29 of Set 5 | mandalgovi\n",
      "Processing Record 30 of Set 5 | brokopondo\n",
      "Processing Record 31 of Set 5 | narsaq\n",
      "Processing Record 32 of Set 5 | yulara\n",
      "Processing Record 33 of Set 5 | byron bay\n",
      "Processing Record 34 of Set 5 | heihe\n",
      "Processing Record 35 of Set 5 | half moon bay\n",
      "Processing Record 36 of Set 5 | makakilo city\n",
      "Processing Record 37 of Set 5 | pachino\n",
      "Processing Record 38 of Set 5 | kaeo\n",
      "Processing Record 39 of Set 5 | muisne\n",
      "Processing Record 40 of Set 5 | saint-francois\n",
      "Processing Record 41 of Set 5 | biak\n",
      "Processing Record 42 of Set 5 | mao\n",
      "Processing Record 43 of Set 5 | sawakin\n",
      "Processing Record 44 of Set 5 | vao\n",
      "Processing Record 45 of Set 5 | isiro\n",
      "Processing Record 46 of Set 5 | terrace bay\n",
      "Processing Record 47 of Set 5 | tuatapere\n",
      "Processing Record 48 of Set 5 | port-gentil\n",
      "Processing Record 49 of Set 5 | pangnirtung\n",
      "Processing Record 0 of Set 6 | ola\n",
      "Processing Record 1 of Set 6 | cidreira\n",
      "Processing Record 2 of Set 6 | tawang\n",
      "Processing Record 3 of Set 6 | innisfail\n",
      "Processing Record 4 of Set 6 | stolac\n",
      "Processing Record 5 of Set 6 | deer lake\n",
      "Processing Record 6 of Set 6 | mar del plata\n",
      "Processing Record 7 of Set 6 | bauta\n",
      "Processing Record 8 of Set 6 | challapata\n",
      "Processing Record 9 of Set 6 | monmouth\n",
      "Processing Record 10 of Set 6 | caiaponia\n",
      "Processing Record 11 of Set 6 | ilhabela\n",
      "Processing Record 12 of Set 6 | kavieng\n",
      "Processing Record 13 of Set 6 | okitipupa\n",
      "Processing Record 14 of Set 6 | daru\n",
      "Processing Record 15 of Set 6 | ustka\n",
      "Processing Record 16 of Set 6 | corn island\n",
      "Processing Record 17 of Set 6 | gornopravdinsk\n",
      "Processing Record 18 of Set 6 | rio gallegos\n",
      "Processing Record 19 of Set 6 | bonavista\n",
      "Processing Record 20 of Set 6 | harwich\n",
      "Processing Record 21 of Set 6 | cockburn town\n",
      "Processing Record 22 of Set 6 | ranong\n",
      "Processing Record 23 of Set 6 | solnechnyy\n",
      "Processing Record 24 of Set 6 | sorong\n",
      "Processing Record 25 of Set 6 | kavaratti\n",
      "Processing Record 26 of Set 6 | ilulissat\n",
      "Processing Record 27 of Set 6 | korla\n",
      "Processing Record 28 of Set 6 | buraydah\n",
      "Processing Record 29 of Set 6 | samana\n",
      "Processing Record 30 of Set 6 | mount gambier\n",
      "Processing Record 31 of Set 6 | rundu\n",
      "Processing Record 32 of Set 6 | udachnyy\n",
      "Processing Record 33 of Set 6 | la paz\n",
      "Processing Record 34 of Set 6 | trincomalee\n",
      "Processing Record 35 of Set 6 | kortkeros\n",
      "Processing Record 36 of Set 6 | dalby\n",
      "Processing Record 37 of Set 6 | sembe\n",
      "Processing Record 38 of Set 6 | saskylakh\n",
      "Processing Record 39 of Set 6 | nerchinskiy zavod\n",
      "Processing Record 40 of Set 6 | katsuura\n",
      "Processing Record 41 of Set 6 | portland\n",
      "Processing Record 42 of Set 6 | bilma\n",
      "Processing Record 43 of Set 6 | nabire\n",
      "Processing Record 44 of Set 6 | paamiut\n",
      "Processing Record 45 of Set 6 | harindanga\n",
      "Processing Record 46 of Set 6 | lesnoy\n",
      "Processing Record 47 of Set 6 | senneterre\n",
      "Processing Record 48 of Set 6 | ambon\n",
      "Processing Record 49 of Set 6 | vostok\n",
      "Processing Record 0 of Set 7 | roseburg\n",
      "Processing Record 1 of Set 7 | arman\n",
      "Processing Record 2 of Set 7 | treinta y tres\n",
      "Processing Record 3 of Set 7 | leningradskiy\n",
      "Processing Record 4 of Set 7 | nemuro\n",
      "Processing Record 5 of Set 7 | chuy\n",
      "Processing Record 6 of Set 7 | pathanamthitta\n",
      "Processing Record 7 of Set 7 | sangamner\n",
      "Processing Record 8 of Set 7 | nantucket\n",
      "Processing Record 9 of Set 7 | shingu\n",
      "Processing Record 10 of Set 7 | altay\n",
      "Processing Record 11 of Set 7 | dudinka\n",
      "Processing Record 12 of Set 7 | avera\n",
      "Processing Record 13 of Set 7 | sao teotonio\n",
      "Processing Record 14 of Set 7 | padang\n",
      "Processing Record 15 of Set 7 | gifhorn\n",
      "Processing Record 16 of Set 7 | comodoro rivadavia\n",
      "Processing Record 17 of Set 7 | usman\n",
      "Processing Record 18 of Set 7 | bataipora\n",
      "Processing Record 19 of Set 7 | alba\n",
      "Processing Record 20 of Set 7 | road town\n",
      "Processing Record 21 of Set 7 | pontypool\n",
      "Processing Record 22 of Set 7 | mendi\n",
      "Processing Record 23 of Set 7 | nsanje\n",
      "Processing Record 24 of Set 7 | dabat\n",
      "Processing Record 25 of Set 7 | berdigestyakh\n",
      "Processing Record 26 of Set 7 | chegdomyn\n",
      "Processing Record 27 of Set 7 | zaysan\n",
      "Processing Record 28 of Set 7 | verkhniy avzyan\n",
      "Processing Record 29 of Set 7 | havoysund\n",
      "Processing Record 30 of Set 7 | lagoa\n",
      "Processing Record 31 of Set 7 | kysyl-syr\n",
      "Processing Record 32 of Set 7 | kokkola\n",
      "Processing Record 33 of Set 7 | kulykivka\n",
      "Processing Record 34 of Set 7 | yidu\n",
      "Processing Record 35 of Set 7 | vestmannaeyjar\n",
      "Processing Record 36 of Set 7 | lensk\n",
      "Processing Record 37 of Set 7 | jamestown\n",
      "Processing Record 38 of Set 7 | waipawa\n",
      "Processing Record 39 of Set 7 | cabra\n",
      "Processing Record 40 of Set 7 | muncar\n",
      "Processing Record 41 of Set 7 | midwest city\n",
      "Processing Record 42 of Set 7 | peleduy\n",
      "Processing Record 43 of Set 7 | statesville\n",
      "Processing Record 44 of Set 7 | port hedland\n",
      "Processing Record 45 of Set 7 | ambilobe\n",
      "Processing Record 46 of Set 7 | salto\n",
      "Processing Record 47 of Set 7 | georgetown\n",
      "Processing Record 48 of Set 7 | mayo\n",
      "Processing Record 49 of Set 7 | kapit\n",
      "Processing Record 0 of Set 8 | koriyama\n",
      "Processing Record 1 of Set 8 | havelock\n",
      "Processing Record 2 of Set 8 | numan\n",
      "Processing Record 3 of Set 8 | hambantota\n",
      "Processing Record 4 of Set 8 | kushima\n",
      "Processing Record 5 of Set 8 | wyndham\n",
      "Processing Record 6 of Set 8 | palencia\n",
      "Processing Record 7 of Set 8 | upington\n",
      "Processing Record 8 of Set 8 | belmonte\n",
      "Processing Record 9 of Set 8 | clyde river\n",
      "Processing Record 10 of Set 8 | mayumba\n",
      "Processing Record 11 of Set 8 | togur\n",
      "Processing Record 12 of Set 8 | corowa\n",
      "Processing Record 13 of Set 8 | ryomgard\n",
      "Processing Record 14 of Set 8 | alice springs\n",
      "Processing Record 15 of Set 8 | broken hill\n",
      "Processing Record 16 of Set 8 | katobu\n",
      "Processing Record 17 of Set 8 | nhulunbuy\n",
      "Processing Record 18 of Set 8 | santa rosalia\n",
      "Processing Record 19 of Set 8 | kyren\n",
      "Processing Record 20 of Set 8 | valdivia\n",
      "Processing Record 21 of Set 8 | kahului\n",
      "Processing Record 22 of Set 8 | tranas\n",
      "Processing Record 23 of Set 8 | bhandara\n",
      "Processing Record 24 of Set 8 | jiuquan\n",
      "Processing Record 25 of Set 8 | staryy nadym\n",
      "Processing Record 26 of Set 8 | lorengau\n",
      "Processing Record 27 of Set 8 | salalah\n",
      "Processing Record 28 of Set 8 | san andres\n",
      "Processing Record 29 of Set 8 | eyl\n",
      "Processing Record 30 of Set 8 | ixtapa\n",
      "Processing Record 31 of Set 8 | mariinskiy posad\n",
      "Processing Record 32 of Set 8 | saint-louis\n",
      "Processing Record 33 of Set 8 | panuco\n",
      "Processing Record 34 of Set 8 | poum\n",
      "Processing Record 35 of Set 8 | floro\n",
      "Processing Record 36 of Set 8 | xuchang\n",
      "Processing Record 37 of Set 8 | barroso\n"
     ]
    },
    {
     "name": "stdout",
     "output_type": "stream",
     "text": [
      "Processing Record 38 of Set 8 | bintulu\n",
      "Processing Record 39 of Set 8 | adrar\n",
      "Processing Record 40 of Set 8 | nazareno\n",
      "Processing Record 41 of Set 8 | pangkalanbuun\n",
      "-----------------------------\n",
      "Data Retrieval Complete      \n",
      "-----------------------------\n"
     ]
    }
   ],
   "source": [
    "# Set the API base URL\n",
    "base_url = \"http://api.openweathermap.org/data/2.5/weather?\"\n",
    "\n",
    "query_url = base_url + \"appid=\" + weather_api_key + \"&units=\"+\"imperial\"+\"&q=\"\n",
    "\n",
    "\n",
    "# Set the API base URL\n",
    "#url = # YOUR CODE HERE\n",
    "\n",
    "# Define an empty list to fetch the weather data for each city\n",
    "city_data = []\n",
    "\n",
    "# Print to logger\n",
    "print(\"Beginning Data Retrieval     \")\n",
    "print(\"-----------------------------\")\n",
    "\n",
    "# Create counters\n",
    "record_count = 1\n",
    "set_count = 1\n",
    "\n",
    "# Loop through all the cities in our list to fetch weather data\n",
    "for i, city in enumerate(cities):\n",
    "        \n",
    "    # Group cities in sets of 50 for logging purposes\n",
    "    if (i % 50 == 0 and i >= 50):\n",
    "        set_count += 1\n",
    "        record_count = 0\n",
    "\n",
    "    # Create endpoint URL with each city\n",
    "    city_url = \"https://api.openweathermap.org/data/2.5/weather?q={city}&appid={weather_api_key}\"\n",
    "    \n",
    "    # Log the url, record, and set numbers\n",
    "    print(\"Processing Record %s of Set %s | %s\" % (record_count, set_count, city))\n",
    "\n",
    "    # Add 1 to the record count\n",
    "    record_count += 1\n",
    "\n",
    "    # Run an API request for each of the cities\n",
    "    try:\n",
    "        # Parse the JSON and retrieve data\n",
    "        city_weather = requests.get(query_url + city).json()\n",
    "        if i == 0:\n",
    "            print(city_weather)\n",
    "                            \n",
    "                            \n",
    "         # Parse out latitude, longitude, max temp, humidity, cloudiness, wind speed, country, and date\n",
    "        city_lat = city_weather[\"coord\"][\"lat\"]\n",
    "        city_lng = city_weather[\"coord\"][\"lon\"]\n",
    "        city_max_temp = city_weather[\"main\"][\"temp_max\"]\n",
    "        city_humidity = city_weather[\"main\"][\"humidity\"]\n",
    "        city_clouds = city_weather [\"clouds\"][\"all\"]\n",
    "        city_wind = city_weather[\"wind\"][\"speed\"]\n",
    "        city_country = city_weather[\"sys\"][\"country\"]\n",
    "        city_date = city_weather[\"dt\"]\n",
    "\n",
    "        # Append the City information into city_data list\n",
    "        city_data.append({\"City\": city, \n",
    "                          \"Lat\": city_lat, \n",
    "                          \"Lng\": city_lng, \n",
    "                          \"Max Temp\": city_max_temp,\n",
    "                          \"Humidity\": city_humidity,\n",
    "                          \"Cloudiness\": city_clouds,\n",
    "                          \"Wind Speed\": city_wind,\n",
    "                          \"Country\": city_country,\n",
    "                          \"Date\": city_date})\n",
    "        \n",
    "        \n",
    "\n",
    "    # If an error is experienced, skip the city\n",
    "    except:\n",
    "        print(\"City not found. Skipping...\")\n",
    "        pass\n",
    "              \n",
    "# Indicate that Data Loading is complete \n",
    "print(\"-----------------------------\")\n",
    "print(\"Data Retrieval Complete      \")\n",
    "print(\"-----------------------------\")\n",
    "\n",
    "\n",
    "\n",
    "\n",
    "\n",
    "\n"
   ]
  },
  {
   "cell_type": "code",
   "execution_count": 41,
   "metadata": {
    "scrolled": true
   },
   "outputs": [
    {
     "name": "stdout",
     "output_type": "stream",
     "text": [
      "             City      Lat       Lng  Max Temp  Humidity  Cloudiness  \\\n",
      "0  ribeira grande  38.5167  -28.7000     64.80        82          40   \n",
      "1        hermanus -34.4187   19.2345     65.80        71          22   \n",
      "2        khatanga  71.9667  102.5000    -20.81        95          95   \n",
      "3     kloulklubed   7.0419  134.2556     80.82        81         100   \n",
      "4          atuona  -9.8000 -139.0333     78.10        78          91   \n",
      "\n",
      "   Wind Speed Country        Date  \n",
      "0       19.57      PT  1671472447  \n",
      "1        7.70      ZA  1671472447  \n",
      "2        4.50      RU  1671472447  \n",
      "3       16.17      PW  1671472448  \n",
      "4       19.04      PF  1671472449  \n"
     ]
    },
    {
     "data": {
      "text/plain": [
       "City          392\n",
       "Lat           392\n",
       "Lng           392\n",
       "Max Temp      392\n",
       "Humidity      392\n",
       "Cloudiness    392\n",
       "Wind Speed    392\n",
       "Country       392\n",
       "Date          392\n",
       "dtype: int64"
      ]
     },
     "execution_count": 41,
     "metadata": {},
     "output_type": "execute_result"
    }
   ],
   "source": [
    "# Convert the cities weather data into a Pandas DataFrame\n",
    "cityInfo_df= pd.DataFrame(city_data)\n",
    "print(cityInfo_df.head())\n",
    "\n",
    "# Show Record Count\n",
    "cityInfo_df.count()"
   ]
  },
  {
   "cell_type": "code",
   "execution_count": 42,
   "metadata": {
    "scrolled": true
   },
   "outputs": [
    {
     "data": {
      "text/html": [
       "<div>\n",
       "<style scoped>\n",
       "    .dataframe tbody tr th:only-of-type {\n",
       "        vertical-align: middle;\n",
       "    }\n",
       "\n",
       "    .dataframe tbody tr th {\n",
       "        vertical-align: top;\n",
       "    }\n",
       "\n",
       "    .dataframe thead th {\n",
       "        text-align: right;\n",
       "    }\n",
       "</style>\n",
       "<table border=\"1\" class=\"dataframe\">\n",
       "  <thead>\n",
       "    <tr style=\"text-align: right;\">\n",
       "      <th></th>\n",
       "      <th>City</th>\n",
       "      <th>Lat</th>\n",
       "      <th>Lng</th>\n",
       "      <th>Max Temp</th>\n",
       "      <th>Humidity</th>\n",
       "      <th>Cloudiness</th>\n",
       "      <th>Wind Speed</th>\n",
       "      <th>Country</th>\n",
       "      <th>Date</th>\n",
       "    </tr>\n",
       "  </thead>\n",
       "  <tbody>\n",
       "    <tr>\n",
       "      <th>0</th>\n",
       "      <td>ribeira grande</td>\n",
       "      <td>38.5167</td>\n",
       "      <td>-28.7000</td>\n",
       "      <td>64.80</td>\n",
       "      <td>82</td>\n",
       "      <td>40</td>\n",
       "      <td>19.57</td>\n",
       "      <td>PT</td>\n",
       "      <td>1671472447</td>\n",
       "    </tr>\n",
       "    <tr>\n",
       "      <th>1</th>\n",
       "      <td>hermanus</td>\n",
       "      <td>-34.4187</td>\n",
       "      <td>19.2345</td>\n",
       "      <td>65.80</td>\n",
       "      <td>71</td>\n",
       "      <td>22</td>\n",
       "      <td>7.70</td>\n",
       "      <td>ZA</td>\n",
       "      <td>1671472447</td>\n",
       "    </tr>\n",
       "    <tr>\n",
       "      <th>2</th>\n",
       "      <td>khatanga</td>\n",
       "      <td>71.9667</td>\n",
       "      <td>102.5000</td>\n",
       "      <td>-20.81</td>\n",
       "      <td>95</td>\n",
       "      <td>95</td>\n",
       "      <td>4.50</td>\n",
       "      <td>RU</td>\n",
       "      <td>1671472447</td>\n",
       "    </tr>\n",
       "    <tr>\n",
       "      <th>3</th>\n",
       "      <td>kloulklubed</td>\n",
       "      <td>7.0419</td>\n",
       "      <td>134.2556</td>\n",
       "      <td>80.82</td>\n",
       "      <td>81</td>\n",
       "      <td>100</td>\n",
       "      <td>16.17</td>\n",
       "      <td>PW</td>\n",
       "      <td>1671472448</td>\n",
       "    </tr>\n",
       "    <tr>\n",
       "      <th>4</th>\n",
       "      <td>atuona</td>\n",
       "      <td>-9.8000</td>\n",
       "      <td>-139.0333</td>\n",
       "      <td>78.10</td>\n",
       "      <td>78</td>\n",
       "      <td>91</td>\n",
       "      <td>19.04</td>\n",
       "      <td>PF</td>\n",
       "      <td>1671472449</td>\n",
       "    </tr>\n",
       "  </tbody>\n",
       "</table>\n",
       "</div>"
      ],
      "text/plain": [
       "             City      Lat       Lng  Max Temp  Humidity  Cloudiness  \\\n",
       "0  ribeira grande  38.5167  -28.7000     64.80        82          40   \n",
       "1        hermanus -34.4187   19.2345     65.80        71          22   \n",
       "2        khatanga  71.9667  102.5000    -20.81        95          95   \n",
       "3     kloulklubed   7.0419  134.2556     80.82        81         100   \n",
       "4          atuona  -9.8000 -139.0333     78.10        78          91   \n",
       "\n",
       "   Wind Speed Country        Date  \n",
       "0       19.57      PT  1671472447  \n",
       "1        7.70      ZA  1671472447  \n",
       "2        4.50      RU  1671472447  \n",
       "3       16.17      PW  1671472448  \n",
       "4       19.04      PF  1671472449  "
      ]
     },
     "execution_count": 42,
     "metadata": {},
     "output_type": "execute_result"
    }
   ],
   "source": [
    "# Display sample data\n",
    "cityInfo_df.head()"
   ]
  },
  {
   "cell_type": "code",
   "execution_count": 43,
   "metadata": {},
   "outputs": [],
   "source": [
    "# Export the City_Data into a csv\n",
    "cityInfo_df.to_csv(\"output_data/cities.csv\", index_label=\"City_ID\")"
   ]
  },
  {
   "cell_type": "code",
   "execution_count": 44,
   "metadata": {},
   "outputs": [
    {
     "data": {
      "text/html": [
       "<div>\n",
       "<style scoped>\n",
       "    .dataframe tbody tr th:only-of-type {\n",
       "        vertical-align: middle;\n",
       "    }\n",
       "\n",
       "    .dataframe tbody tr th {\n",
       "        vertical-align: top;\n",
       "    }\n",
       "\n",
       "    .dataframe thead th {\n",
       "        text-align: right;\n",
       "    }\n",
       "</style>\n",
       "<table border=\"1\" class=\"dataframe\">\n",
       "  <thead>\n",
       "    <tr style=\"text-align: right;\">\n",
       "      <th></th>\n",
       "      <th>City</th>\n",
       "      <th>Lat</th>\n",
       "      <th>Lng</th>\n",
       "      <th>Max Temp</th>\n",
       "      <th>Humidity</th>\n",
       "      <th>Cloudiness</th>\n",
       "      <th>Wind Speed</th>\n",
       "      <th>Country</th>\n",
       "      <th>Date</th>\n",
       "    </tr>\n",
       "    <tr>\n",
       "      <th>City_ID</th>\n",
       "      <th></th>\n",
       "      <th></th>\n",
       "      <th></th>\n",
       "      <th></th>\n",
       "      <th></th>\n",
       "      <th></th>\n",
       "      <th></th>\n",
       "      <th></th>\n",
       "      <th></th>\n",
       "    </tr>\n",
       "  </thead>\n",
       "  <tbody>\n",
       "    <tr>\n",
       "      <th>0</th>\n",
       "      <td>ribeira grande</td>\n",
       "      <td>38.5167</td>\n",
       "      <td>-28.7000</td>\n",
       "      <td>64.80</td>\n",
       "      <td>82</td>\n",
       "      <td>40</td>\n",
       "      <td>19.57</td>\n",
       "      <td>PT</td>\n",
       "      <td>1671472447</td>\n",
       "    </tr>\n",
       "    <tr>\n",
       "      <th>1</th>\n",
       "      <td>hermanus</td>\n",
       "      <td>-34.4187</td>\n",
       "      <td>19.2345</td>\n",
       "      <td>65.80</td>\n",
       "      <td>71</td>\n",
       "      <td>22</td>\n",
       "      <td>7.70</td>\n",
       "      <td>ZA</td>\n",
       "      <td>1671472447</td>\n",
       "    </tr>\n",
       "    <tr>\n",
       "      <th>2</th>\n",
       "      <td>khatanga</td>\n",
       "      <td>71.9667</td>\n",
       "      <td>102.5000</td>\n",
       "      <td>-20.81</td>\n",
       "      <td>95</td>\n",
       "      <td>95</td>\n",
       "      <td>4.50</td>\n",
       "      <td>RU</td>\n",
       "      <td>1671472447</td>\n",
       "    </tr>\n",
       "    <tr>\n",
       "      <th>3</th>\n",
       "      <td>kloulklubed</td>\n",
       "      <td>7.0419</td>\n",
       "      <td>134.2556</td>\n",
       "      <td>80.82</td>\n",
       "      <td>81</td>\n",
       "      <td>100</td>\n",
       "      <td>16.17</td>\n",
       "      <td>PW</td>\n",
       "      <td>1671472448</td>\n",
       "    </tr>\n",
       "    <tr>\n",
       "      <th>4</th>\n",
       "      <td>atuona</td>\n",
       "      <td>-9.8000</td>\n",
       "      <td>-139.0333</td>\n",
       "      <td>78.10</td>\n",
       "      <td>78</td>\n",
       "      <td>91</td>\n",
       "      <td>19.04</td>\n",
       "      <td>PF</td>\n",
       "      <td>1671472449</td>\n",
       "    </tr>\n",
       "  </tbody>\n",
       "</table>\n",
       "</div>"
      ],
      "text/plain": [
       "                   City      Lat       Lng  Max Temp  Humidity  Cloudiness  \\\n",
       "City_ID                                                                      \n",
       "0        ribeira grande  38.5167  -28.7000     64.80        82          40   \n",
       "1              hermanus -34.4187   19.2345     65.80        71          22   \n",
       "2              khatanga  71.9667  102.5000    -20.81        95          95   \n",
       "3           kloulklubed   7.0419  134.2556     80.82        81         100   \n",
       "4                atuona  -9.8000 -139.0333     78.10        78          91   \n",
       "\n",
       "         Wind Speed Country        Date  \n",
       "City_ID                                  \n",
       "0             19.57      PT  1671472447  \n",
       "1              7.70      ZA  1671472447  \n",
       "2              4.50      RU  1671472447  \n",
       "3             16.17      PW  1671472448  \n",
       "4             19.04      PF  1671472449  "
      ]
     },
     "execution_count": 44,
     "metadata": {},
     "output_type": "execute_result"
    }
   ],
   "source": [
    "# Read saved data\n",
    "city_data_df = pd.read_csv(\"output_data/cities.csv\", index_col=\"City_ID\")\n",
    "\n",
    "# Display sample data\n",
    "city_data_df.head()"
   ]
  },
  {
   "cell_type": "markdown",
   "metadata": {},
   "source": [
    "### Create the Scatter Plots Requested\n",
    "\n",
    "#### Latitude Vs. Temperature"
   ]
  },
  {
   "cell_type": "code",
   "execution_count": 47,
   "metadata": {
    "tags": []
   },
   "outputs": [
    {
     "data": {
      "image/png": "[encoded data removed]",
      "text/plain": [
       "<Figure size 432x288 with 1 Axes>"
      ]
     },
     "metadata": {
      "needs_background": "light"
     },
     "output_type": "display_data"
    }
   ],
   "source": [
    "# Build scatter plot for latitude vs. temperature\n",
    "# YOUR CODE HERE\n",
    "\n",
    "ax1 = city_data_df.plot.scatter(x='Lat',\n",
    "                             y='Max Temp')\n",
    "                              \n",
    "\n",
    "# Incorporate the other graph properties\n",
    "# YOUR CODE HERE\n",
    "\n",
    "plt.title(\"Latitude v Max Temperature \")\n",
    "\n",
    "# Save the figure\n",
    "plt.savefig(\"output_data/Fig1.png\")\n",
    "\n",
    "# Show plot\n",
    "plt.show()"
   ]
  },
  {
   "cell_type": "markdown",
   "metadata": {},
   "source": [
    "#### Latitude Vs. Humidity"
   ]
  },
  {
   "cell_type": "code",
   "execution_count": 48,
   "metadata": {},
   "outputs": [
    {
     "data": {
      "image/png": "[encoded data removed]",
      "text/plain": [
       "<Figure size 432x288 with 1 Axes>"
      ]
     },
     "metadata": {
      "needs_background": "light"
     },
     "output_type": "display_data"
    }
   ],
   "source": [
    "# Build the scatter plots for latitude vs. humidity\n",
    "# YOUR CODE HERE\n",
    "\n",
    "ax1 = city_data_df.plot.scatter(x='Lat',\n",
    "                             y='Humidity')\n",
    "# Incorporate the other graph properties\n",
    "# YOUR CODE HERE\n",
    "plt.title(\"Latitude v Humidity\")\n",
    "# Save the figure\n",
    "plt.savefig(\"output_data/Fig2.png\")\n",
    "\n",
    "# Show plot\n",
    "plt.show()"
   ]
  },
  {
   "cell_type": "markdown",
   "metadata": {},
   "source": [
    "#### Latitude Vs. Cloudiness"
   ]
  },
  {
   "cell_type": "code",
   "execution_count": 49,
   "metadata": {},
   "outputs": [
    {
     "data": {
      "image/png": "[encoded data removed]",
      "text/plain": [
       "<Figure size 432x288 with 1 Axes>"
      ]
     },
     "metadata": {
      "needs_background": "light"
     },
     "output_type": "display_data"
    }
   ],
   "source": [
    "# Build the scatter plots for latitude vs. cloudiness\n",
    "# YOUR CODE HERE\n",
    "\n",
    "ax1 = city_data_df.plot.scatter(x='Lat',\n",
    "                             y='Cloudiness')\n",
    "\n",
    "# Incorporate the other graph properties\n",
    "# YOUR CODE HERE\n",
    "plt.title(\"Latitude v Cloudiness\")\n",
    "# Save the figure\n",
    "plt.savefig(\"output_data/Fig3.png\")\n",
    "\n",
    "# Show plot\n",
    "plt.show()"
   ]
  },
  {
   "cell_type": "markdown",
   "metadata": {},
   "source": [
    "#### Latitude vs. Wind Speed Plot"
   ]
  },
  {
   "cell_type": "code",
   "execution_count": 50,
   "metadata": {
    "scrolled": true
   },
   "outputs": [
    {
     "data": {
      "image/png": "[encoded data removed]",
      "text/plain": [
       "<Figure size 432x288 with 1 Axes>"
      ]
     },
     "metadata": {
      "needs_background": "light"
     },
     "output_type": "display_data"
    }
   ],
   "source": [
    "# Build the scatter plots for latitude vs. wind speed\n",
    "# YOUR CODE HERE\n",
    "\n",
    "\"Lat\"\n",
    "\n",
    "ax1 = city_data_df.plot.scatter(x='Lat',\n",
    "                             y='Wind Speed')\n",
    "\n",
    "\n",
    "# Incorporate the other graph properties\n",
    "# YOUR CODE HERE\n",
    "plt.title(\"Latitude v Wind Speed\")\n",
    "# Save the figure\n",
    "plt.savefig(\"output_data/Fig4.png\")\n",
    "\n",
    "# Show plot\n",
    "plt.show()"
   ]
  },
  {
   "cell_type": "markdown",
   "metadata": {},
   "source": [
    "---\n",
    "\n",
    "## Requirement 2: Compute Linear Regression for Each Relationship\n"
   ]
  },
  {
   "cell_type": "code",
   "execution_count": null,
   "metadata": {},
   "outputs": [],
   "source": [
    "# Define a function to create Linear Regression plots\n",
    "# YOUR CODE HERE"
   ]
  },
  {
   "cell_type": "code",
   "execution_count": 19,
   "metadata": {},
   "outputs": [
    {
     "data": {
      "text/html": [
       "<div>\n",
       "<style scoped>\n",
       "    .dataframe tbody tr th:only-of-type {\n",
       "        vertical-align: middle;\n",
       "    }\n",
       "\n",
       "    .dataframe tbody tr th {\n",
       "        vertical-align: top;\n",
       "    }\n",
       "\n",
       "    .dataframe thead th {\n",
       "        text-align: right;\n",
       "    }\n",
       "</style>\n",
       "<table border=\"1\" class=\"dataframe\">\n",
       "  <thead>\n",
       "    <tr style=\"text-align: right;\">\n",
       "      <th></th>\n",
       "      <th>City</th>\n",
       "      <th>Lat</th>\n",
       "      <th>Lng</th>\n",
       "      <th>Max Temp</th>\n",
       "      <th>Humidity</th>\n",
       "      <th>Cloudiness</th>\n",
       "      <th>Wind Speed</th>\n",
       "      <th>Country</th>\n",
       "      <th>Date</th>\n",
       "    </tr>\n",
       "    <tr>\n",
       "      <th>City_ID</th>\n",
       "      <th></th>\n",
       "      <th></th>\n",
       "      <th></th>\n",
       "      <th></th>\n",
       "      <th></th>\n",
       "      <th></th>\n",
       "      <th></th>\n",
       "      <th></th>\n",
       "      <th></th>\n",
       "    </tr>\n",
       "  </thead>\n",
       "  <tbody>\n",
       "    <tr>\n",
       "      <th>0</th>\n",
       "      <td>okitipupa</td>\n",
       "      <td>6.5047</td>\n",
       "      <td>4.7839</td>\n",
       "      <td>72.25</td>\n",
       "      <td>87</td>\n",
       "      <td>11</td>\n",
       "      <td>2.77</td>\n",
       "      <td>NG</td>\n",
       "      <td>1671418825</td>\n",
       "    </tr>\n",
       "    <tr>\n",
       "      <th>2</th>\n",
       "      <td>deer lake</td>\n",
       "      <td>49.1667</td>\n",
       "      <td>-57.4316</td>\n",
       "      <td>35.19</td>\n",
       "      <td>97</td>\n",
       "      <td>100</td>\n",
       "      <td>13.76</td>\n",
       "      <td>CA</td>\n",
       "      <td>1671418836</td>\n",
       "    </tr>\n",
       "    <tr>\n",
       "      <th>3</th>\n",
       "      <td>tabou</td>\n",
       "      <td>4.4230</td>\n",
       "      <td>-7.3528</td>\n",
       "      <td>78.40</td>\n",
       "      <td>82</td>\n",
       "      <td>6</td>\n",
       "      <td>5.21</td>\n",
       "      <td>CI</td>\n",
       "      <td>1671418837</td>\n",
       "    </tr>\n",
       "    <tr>\n",
       "      <th>4</th>\n",
       "      <td>woodward</td>\n",
       "      <td>36.4337</td>\n",
       "      <td>-99.3904</td>\n",
       "      <td>43.97</td>\n",
       "      <td>50</td>\n",
       "      <td>100</td>\n",
       "      <td>19.57</td>\n",
       "      <td>US</td>\n",
       "      <td>1671418839</td>\n",
       "    </tr>\n",
       "    <tr>\n",
       "      <th>7</th>\n",
       "      <td>lerik</td>\n",
       "      <td>38.7726</td>\n",
       "      <td>48.4128</td>\n",
       "      <td>42.78</td>\n",
       "      <td>52</td>\n",
       "      <td>0</td>\n",
       "      <td>3.51</td>\n",
       "      <td>AZ</td>\n",
       "      <td>1671418840</td>\n",
       "    </tr>\n",
       "  </tbody>\n",
       "</table>\n",
       "</div>"
      ],
      "text/plain": [
       "              City      Lat      Lng  Max Temp  Humidity  Cloudiness  \\\n",
       "City_ID                                                                \n",
       "0        okitipupa   6.5047   4.7839     72.25        87          11   \n",
       "2        deer lake  49.1667 -57.4316     35.19        97         100   \n",
       "3            tabou   4.4230  -7.3528     78.40        82           6   \n",
       "4         woodward  36.4337 -99.3904     43.97        50         100   \n",
       "7            lerik  38.7726  48.4128     42.78        52           0   \n",
       "\n",
       "         Wind Speed Country        Date  \n",
       "City_ID                                  \n",
       "0              2.77      NG  1671418825  \n",
       "2             13.76      CA  1671418836  \n",
       "3              5.21      CI  1671418837  \n",
       "4             19.57      US  1671418839  \n",
       "7              3.51      AZ  1671418840  "
      ]
     },
     "execution_count": 19,
     "metadata": {},
     "output_type": "execute_result"
    }
   ],
   "source": [
    "# Create a DataFrame with the Northern Hemisphere data (Latitude >= 0)\n",
    "# YOUR CODE HERE\n",
    "northern_hemi_df = city_data_df[city_data_df[\"Lat\"] >= 0]\n",
    "\n",
    "# Display sample data\n",
    "northern_hemi_df.head()"
   ]
  },
  {
   "cell_type": "code",
   "execution_count": 20,
   "metadata": {
    "scrolled": false
   },
   "outputs": [
    {
     "data": {
      "text/html": [
       "<div>\n",
       "<style scoped>\n",
       "    .dataframe tbody tr th:only-of-type {\n",
       "        vertical-align: middle;\n",
       "    }\n",
       "\n",
       "    .dataframe tbody tr th {\n",
       "        vertical-align: top;\n",
       "    }\n",
       "\n",
       "    .dataframe thead th {\n",
       "        text-align: right;\n",
       "    }\n",
       "</style>\n",
       "<table border=\"1\" class=\"dataframe\">\n",
       "  <thead>\n",
       "    <tr style=\"text-align: right;\">\n",
       "      <th></th>\n",
       "      <th>City</th>\n",
       "      <th>Lat</th>\n",
       "      <th>Lng</th>\n",
       "      <th>Max Temp</th>\n",
       "      <th>Humidity</th>\n",
       "      <th>Cloudiness</th>\n",
       "      <th>Wind Speed</th>\n",
       "      <th>Country</th>\n",
       "      <th>Date</th>\n",
       "    </tr>\n",
       "    <tr>\n",
       "      <th>City_ID</th>\n",
       "      <th></th>\n",
       "      <th></th>\n",
       "      <th></th>\n",
       "      <th></th>\n",
       "      <th></th>\n",
       "      <th></th>\n",
       "      <th></th>\n",
       "      <th></th>\n",
       "      <th></th>\n",
       "    </tr>\n",
       "  </thead>\n",
       "  <tbody>\n",
       "    <tr>\n",
       "      <th>1</th>\n",
       "      <td>rikitea</td>\n",
       "      <td>-23.1203</td>\n",
       "      <td>-134.9692</td>\n",
       "      <td>77.38</td>\n",
       "      <td>84</td>\n",
       "      <td>100</td>\n",
       "      <td>14.83</td>\n",
       "      <td>PF</td>\n",
       "      <td>1671418830</td>\n",
       "    </tr>\n",
       "    <tr>\n",
       "      <th>5</th>\n",
       "      <td>port elizabeth</td>\n",
       "      <td>-33.9180</td>\n",
       "      <td>25.5701</td>\n",
       "      <td>66.31</td>\n",
       "      <td>89</td>\n",
       "      <td>75</td>\n",
       "      <td>0.00</td>\n",
       "      <td>ZA</td>\n",
       "      <td>1671418649</td>\n",
       "    </tr>\n",
       "    <tr>\n",
       "      <th>6</th>\n",
       "      <td>bambous virieux</td>\n",
       "      <td>-20.3428</td>\n",
       "      <td>57.7575</td>\n",
       "      <td>78.22</td>\n",
       "      <td>74</td>\n",
       "      <td>39</td>\n",
       "      <td>13.04</td>\n",
       "      <td>MU</td>\n",
       "      <td>1671418840</td>\n",
       "    </tr>\n",
       "    <tr>\n",
       "      <th>10</th>\n",
       "      <td>mount gambier</td>\n",
       "      <td>-37.8333</td>\n",
       "      <td>140.7667</td>\n",
       "      <td>78.84</td>\n",
       "      <td>33</td>\n",
       "      <td>0</td>\n",
       "      <td>8.23</td>\n",
       "      <td>AU</td>\n",
       "      <td>1671418842</td>\n",
       "    </tr>\n",
       "    <tr>\n",
       "      <th>11</th>\n",
       "      <td>bredasdorp</td>\n",
       "      <td>-34.5322</td>\n",
       "      <td>20.0403</td>\n",
       "      <td>63.99</td>\n",
       "      <td>77</td>\n",
       "      <td>100</td>\n",
       "      <td>4.68</td>\n",
       "      <td>ZA</td>\n",
       "      <td>1671418842</td>\n",
       "    </tr>\n",
       "  </tbody>\n",
       "</table>\n",
       "</div>"
      ],
      "text/plain": [
       "                    City      Lat       Lng  Max Temp  Humidity  Cloudiness  \\\n",
       "City_ID                                                                       \n",
       "1                rikitea -23.1203 -134.9692     77.38        84         100   \n",
       "5         port elizabeth -33.9180   25.5701     66.31        89          75   \n",
       "6        bambous virieux -20.3428   57.7575     78.22        74          39   \n",
       "10         mount gambier -37.8333  140.7667     78.84        33           0   \n",
       "11            bredasdorp -34.5322   20.0403     63.99        77         100   \n",
       "\n",
       "         Wind Speed Country        Date  \n",
       "City_ID                                  \n",
       "1             14.83      PF  1671418830  \n",
       "5              0.00      ZA  1671418649  \n",
       "6             13.04      MU  1671418840  \n",
       "10             8.23      AU  1671418842  \n",
       "11             4.68      ZA  1671418842  "
      ]
     },
     "execution_count": 20,
     "metadata": {},
     "output_type": "execute_result"
    }
   ],
   "source": [
    "# Create a DataFrame with the Southern Hemisphere data (Latitude < 0)\n",
    "# YOUR CODE HERE\n",
    "southern_hemi_df = city_data_df[city_data_df[\"Lat\"] < 0]\n",
    "# Display sample data\n",
    "southern_hemi_df.head()"
   ]
  },
  {
   "cell_type": "markdown",
   "metadata": {},
   "source": [
    "###  Temperature vs. Latitude Linear Regression Plot"
   ]
  },
  {
   "cell_type": "code",
   "execution_count": 21,
   "metadata": {},
   "outputs": [
    {
     "name": "stdout",
     "output_type": "stream",
     "text": [
      "The r-squared is: 0.7465417496719282\n"
     ]
    },
    {
     "data": {
      "image/png": "[encoded data removed]",
      "text/plain": [
       "<Figure size 720x576 with 1 Axes>"
      ]
     },
     "metadata": {
      "needs_background": "light"
     },
     "output_type": "display_data"
    }
   ],
   "source": [
    "# Linear regression on Northern Hemisphere\n",
    "# Northern Hemisphere\n",
    "# Add the linear regression equation and line to plot\n",
    "\n",
    "x_values = northern_hemi_df[\"Lat\"]\n",
    "y_values = northern_hemi_df[\"Max Temp\"]\n",
    "fig1, ax1 = plt.subplots(figsize=(10, 8))\n",
    "(slope, intercept, rvalue, pvalue, stderr) = linregress(x_values, y_values)\n",
    "regress_values = x_values * slope + intercept\n",
    "line_eq = \"y = \" + str(round(slope,2)) + \"x + \" + str(round(intercept,2))\n",
    "plt.scatter(x_values,y_values)\n",
    "plt.plot(x_values,regress_values,\"r-\")\n",
    "plt.annotate(line_eq,(5.8,0.8),fontsize=15,color=\"red\")\n",
    "plt.title(\"Northern Hemisphere Temperature versus Latitude\",fontsize = 14)\n",
    "plt.xlabel(\"Latitude\")\n",
    "plt.ylabel(\"Max Temp\")\n",
    "print(f\"The r-squared is: {rvalue**2}\")\n",
    "\n",
    "# Save the figure\n",
    "plt.savefig(\"output_data/Fig5.png\")\n",
    "plt.show()\n",
    "\n",
    "\n",
    "\n",
    "\n"
   ]
  },
  {
   "cell_type": "code",
   "execution_count": 22,
   "metadata": {
    "scrolled": true
   },
   "outputs": [
    {
     "name": "stdout",
     "output_type": "stream",
     "text": [
      "The r-squared is: 0.26699963328473\n"
     ]
    },
    {
     "data": {
      "image/png": "[encoded data removed]",
      "text/plain": [
       "<Figure size 720x360 with 1 Axes>"
      ]
     },
     "metadata": {
      "needs_background": "light"
     },
     "output_type": "display_data"
    }
   ],
   "source": [
    "# Linear regression on Southern Hemisphere\n",
    "# YOUR CODE HERE\n",
    "\n",
    "\n",
    "x_values = southern_hemi_df[\"Lat\"]\n",
    "y_values = southern_hemi_df[\"Max Temp\"]\n",
    "fig1, ax1 = plt.subplots(figsize=(10, 5))\n",
    "(slope, intercept, rvalue, pvalue, stderr) = linregress(x_values, y_values)\n",
    "regress_values = x_values * slope + intercept\n",
    "line_eq = \"y = \" + str(round(slope,2)) + \"x + \" + str(round(intercept,2))\n",
    "plt.scatter(x_values,y_values)\n",
    "plt.plot(x_values,regress_values,\"r-\")\n",
    "plt.annotate(line_eq,(5.8,0.8),fontsize=15,color=\"red\")\n",
    "plt.title(\"Southern Hemisphere Temperature versus Latitude\",fontsize = 14)\n",
    "plt.xlabel(\"Latitude\")\n",
    "plt.ylabel(\"Max Temp\")\n",
    "print(f\"The r-squared is: {rvalue**2}\")\n",
    "\n",
    "# Save the figure\n",
    "plt.savefig(\"output_data/Fig6.png\")\n",
    "plt.show()\n",
    "\n"
   ]
  },
  {
   "cell_type": "markdown",
   "metadata": {},
   "source": [
    "**Discussion about the linear relationship:** \n",
    "\n",
    "There is a 75% correlation between Maximum Temperature and Latitude in the Northern Hemisphere. As latitude value decreases the temperature increases. \n",
    "\n",
    "There is a 27% correlation between Maximum Temperature and Latitude in the Northern Hemisphere. As the latitude value increases the temperature increases. There are also quite a number of outliers. \n",
    "\n"
   ]
  },
  {
   "cell_type": "markdown",
   "metadata": {},
   "source": [
    "### Humidity vs. Latitude Linear Regression Plot"
   ]
  },
  {
   "cell_type": "code",
   "execution_count": 23,
   "metadata": {},
   "outputs": [
    {
     "name": "stdout",
     "output_type": "stream",
     "text": [
      "The r-squared is: 0.12232539472845931\n"
     ]
    },
    {
     "data": {
      "image/png": "[encoded data removed]",
      "text/plain": [
       "<Figure size 720x576 with 1 Axes>"
      ]
     },
     "metadata": {
      "needs_background": "light"
     },
     "output_type": "display_data"
    }
   ],
   "source": [
    "# Northern Hemisphere\n",
    "# YOUR CODE HERE\n",
    "\n",
    "# Linear regression on Northern Hemisphere\n",
    "x_values = northern_hemi_df[\"Lat\"]\n",
    "y_values = northern_hemi_df[\"Humidity\"]\n",
    "fig1, ax1 = plt.subplots(figsize=(10,8))\n",
    "(slope, intercept, rvalue, pvalue, stderr) = linregress(x_values, y_values)\n",
    "regress_values = x_values * slope + intercept\n",
    "line_eq = \"y = \" + str(round(slope,2)) + \"x + \" + str(round(intercept,2))\n",
    "plt.scatter(x_values,y_values)\n",
    "plt.plot(x_values,regress_values,\"r-\")\n",
    "plt.annotate(line_eq,(5.8,0.8),fontsize=15,color=\"red\")\n",
    "plt.title(\"Northern Hemisphere Humidity versus Latitude\",fontsize = 14)\n",
    "plt.xlabel(\"Latitude\")\n",
    "plt.ylabel(\"Humidity\")\n",
    "\n",
    "print(f\"The r-squared is: {rvalue**2}\")\n",
    "\n",
    "# Save the figure\n",
    "plt.savefig(\"output_data/Fig7.png\")\n",
    "plt.show()"
   ]
  },
  {
   "cell_type": "code",
   "execution_count": 24,
   "metadata": {
    "scrolled": false
   },
   "outputs": [
    {
     "name": "stdout",
     "output_type": "stream",
     "text": [
      "The r-squared is: 0.11129251752389441\n"
     ]
    },
    {
     "data": {
      "image/png": "[encoded data removed]",
      "text/plain": [
       "<Figure size 720x360 with 1 Axes>"
      ]
     },
     "metadata": {
      "needs_background": "light"
     },
     "output_type": "display_data"
    }
   ],
   "source": [
    "# Southern Hemisphere\n",
    "# YOUR CODE HERE\n",
    "\n",
    "# Linear regression on Southern Hemisphere\n",
    "\n",
    "\n",
    "\n",
    "x_values = southern_hemi_df[\"Lat\"]\n",
    "y_values = southern_hemi_df[\"Humidity\"]\n",
    "\n",
    "fig1, ax1 = plt.subplots(figsize=(10,5))\n",
    "(slope, intercept, rvalue, pvalue, stderr) = linregress(x_values, y_values)\n",
    "regress_values = x_values * slope + intercept\n",
    "line_eq = \"y = \" + str(round(slope,2)) + \"x + \" + str(round(intercept,2))\n",
    "plt.scatter(x_values,y_values)\n",
    "plt.plot(x_values,regress_values,\"r-\")\n",
    "plt.annotate(line_eq,(5.8,0.8),fontsize=15,color=\"red\")\n",
    "plt.title(\"Southern Hemisphere Humidity versus Latitude\",fontsize = 14)\n",
    "plt.xlabel(\"Latitude\")\n",
    "plt.ylabel(\"Humidity\")\n",
    "\n",
    "print(f\"The r-squared is: {rvalue**2}\")\n",
    "\n",
    "# Save the figure\n",
    "plt.savefig(\"output_data/Fig8.png\")\n",
    "plt.show()"
   ]
  },
  {
   "cell_type": "markdown",
   "metadata": {},
   "source": [
    "**Discussion about the linear relationship:** There is a 12% Correlation between Humidity and Latitude in the Northern Hemisphere and a 11 % correlation between Humidity and Latitude in the Southern Hemisphere. In the Northern and Southern Hemisphere the relationship between Humidity and Latitude is low and results also show many outliers.  "
   ]
  },
  {
   "cell_type": "markdown",
   "metadata": {},
   "source": [
    "### Cloudiness vs. Latitude Linear Regression Plot"
   ]
  },
  {
   "cell_type": "code",
   "execution_count": 25,
   "metadata": {},
   "outputs": [
    {
     "name": "stdout",
     "output_type": "stream",
     "text": [
      "The r-squared is: 0.07019440965240786\n"
     ]
    },
    {
     "data": {
      "image/png": "[encoded data removed]",
      "text/plain": [
       "<Figure size 720x576 with 1 Axes>"
      ]
     },
     "metadata": {
      "needs_background": "light"
     },
     "output_type": "display_data"
    }
   ],
   "source": [
    "# Northern Hemisphere\n",
    "# YOUR CODE HERE\n",
    "# Linear regression on Northern Hemisphere\n",
    "x_values = northern_hemi_df[\"Lat\"]\n",
    "y_values = northern_hemi_df[\"Cloudiness\"]\n",
    "fig1, ax1 = plt.subplots(figsize=(10,8))\n",
    "(slope, intercept, rvalue, pvalue, stderr) = linregress(x_values, y_values)\n",
    "regress_values = x_values * slope + intercept\n",
    "line_eq = \"y = \" + str(round(slope,2)) + \"x + \" + str(round(intercept,2))\n",
    "plt.scatter(x_values,y_values)\n",
    "plt.plot(x_values,regress_values,\"r-\")\n",
    "plt.annotate(line_eq,(5.8,0.8),fontsize=15,color=\"red\")\n",
    "plt.title(\"Northern Hemisphere Cloudiness versus Latitude\",fontsize = 14)\n",
    "plt.xlabel(\"Latitude\")\n",
    "plt.ylabel(\"Cloudiness\")\n",
    "\n",
    "print(f\"The r-squared is: {rvalue**2}\")\n",
    "\n",
    "# Save the figure\n",
    "plt.savefig(\"output_data/Fig9.png\")\n",
    "plt.show()\n",
    "\n",
    "\n"
   ]
  },
  {
   "cell_type": "code",
   "execution_count": 26,
   "metadata": {},
   "outputs": [
    {
     "name": "stdout",
     "output_type": "stream",
     "text": [
      "The r-squared is: 0.10691606334800435\n"
     ]
    },
    {
     "data": {
      "image/png": "[encoded data removed]",
      "text/plain": [
       "<Figure size 720x576 with 1 Axes>"
      ]
     },
     "metadata": {
      "needs_background": "light"
     },
     "output_type": "display_data"
    }
   ],
   "source": [
    "# Southern Hemisphere\n",
    "# YOUR CODE HERE\n",
    "\n",
    "\n",
    "# Linear regression on Southern Hemisphere\n",
    "x_values = southern_hemi_df[\"Lat\"]\n",
    "y_values = southern_hemi_df[\"Cloudiness\"]\n",
    "fig1, ax1 = plt.subplots(figsize=(10,8))\n",
    "(slope, intercept, rvalue, pvalue, stderr) = linregress(x_values, y_values)\n",
    "regress_values = x_values * slope + intercept\n",
    "line_eq = \"y = \" + str(round(slope,2)) + \"x + \" + str(round(intercept,2))\n",
    "plt.scatter(x_values,y_values)\n",
    "plt.plot(x_values,regress_values,\"r-\")\n",
    "plt.annotate(line_eq,(5.8,0.8),fontsize=15,color=\"red\")\n",
    "plt.title(\"Southern Hemisphere Cloudiness versus Latitude\",fontsize = 14)\n",
    "plt.xlabel(\"Latitude\")\n",
    "plt.ylabel(\"Cloudiness\")\n",
    "\n",
    "print(f\"The r-squared is: {rvalue**2}\")\n",
    "\n",
    "# Save the figure\n",
    "plt.savefig(\"output_data/Fig10.png\")\n",
    "plt.show()\n"
   ]
  },
  {
   "cell_type": "markdown",
   "metadata": {},
   "source": [
    "**Discussion about the linear relationship:** YOUR RESPONSE HERE \n",
    "Northern Hemisphere has a correlation value of 7% and Southern Hemisphere has a correlation value of 11% show that there is a low relationship between Cloudiness and Latitude in both Northern and Southern Hemisphere and result Results show many outliers. "
   ]
  },
  {
   "cell_type": "markdown",
   "metadata": {},
   "source": [
    "### Wind Speed vs. Latitude Linear Regression Plot"
   ]
  },
  {
   "cell_type": "code",
   "execution_count": 27,
   "metadata": {},
   "outputs": [
    {
     "name": "stdout",
     "output_type": "stream",
     "text": [
      "The r-squared is: 0.01389013788432023\n"
     ]
    },
    {
     "data": {
      "image/png": "[encoded data removed]",
      "text/plain": [
       "<Figure size 720x576 with 1 Axes>"
      ]
     },
     "metadata": {
      "needs_background": "light"
     },
     "output_type": "display_data"
    }
   ],
   "source": [
    "# Northern Hemisphere\n",
    "# YOUR CODE HERE\n",
    "\n",
    "\n",
    "x_values = northern_hemi_df[\"Lat\"]\n",
    "y_values = northern_hemi_df[\"Wind Speed\"]\n",
    "fig1, ax1 = plt.subplots(figsize=(10, 8))\n",
    "(slope, intercept, rvalue, pvalue, stderr) = linregress(x_values, y_values)\n",
    "regress_values = x_values * slope + intercept\n",
    "line_eq = \"y = \" + str(round(slope,2)) + \"x + \" + str(round(intercept,2))\n",
    "plt.scatter(x_values,y_values)\n",
    "plt.plot(x_values,regress_values,\"r-\")\n",
    "plt.annotate(line_eq,(5.8,0.8),fontsize=15,color=\"red\")\n",
    "plt.title(\"Northern Hemisphere Wind Speed versus Latitude\",fontsize = 14)\n",
    "plt.xlabel(\"Latitude\")\n",
    "plt.ylabel(\"Wind Speed\")\n",
    "print(f\"The r-squared is: {rvalue**2}\")\n",
    "\n",
    "# Save the figure\n",
    "plt.savefig(\"output_data/Fig11.png\")\n",
    "plt.show()\n"
   ]
  },
  {
   "cell_type": "code",
   "execution_count": 28,
   "metadata": {
    "scrolled": true
   },
   "outputs": [
    {
     "name": "stdout",
     "output_type": "stream",
     "text": [
      "The r-squared is: 0.1108422422568906\n"
     ]
    },
    {
     "data": {
      "image/png": "[encoded data removed]",
      "text/plain": [
       "<Figure size 720x360 with 1 Axes>"
      ]
     },
     "metadata": {
      "needs_background": "light"
     },
     "output_type": "display_data"
    }
   ],
   "source": [
    "# Southern Hemisphere\n",
    "# YOUR CODE HERE\n",
    "x_values = southern_hemi_df[\"Lat\"]\n",
    "y_values = southern_hemi_df[\"Wind Speed\"]\n",
    "fig1, ax1 = plt.subplots(figsize=(10, 5))\n",
    "(slope, intercept, rvalue, pvalue, stderr) = linregress(x_values, y_values)\n",
    "regress_values = x_values * slope + intercept\n",
    "line_eq = \"y = \" + str(round(slope,2)) + \"x + \" + str(round(intercept,2))\n",
    "plt.scatter(x_values,y_values)\n",
    "plt.plot(x_values,regress_values,\"r-\")\n",
    "plt.annotate(line_eq,(5.8,0.8),fontsize=15,color=\"red\")\n",
    "plt.title(\"southern Hemisphere Wind Speed versus Latitude\",fontsize = 14)\n",
    "plt.xlabel(\"Latitude\")\n",
    "plt.ylabel(\"Wind Speed\")\n",
    "print(f\"The r-squared is: {rvalue**2}\")\n",
    "\n",
    "# Save the figure\n",
    "plt.savefig(\"output_data/Fig12.png\")\n",
    "plt.show()\n"
   ]
  },
  {
   "cell_type": "markdown",
   "metadata": {},
   "source": [
    "**Discussion about the linear relationship:** Northern Hemisphere has a correlation value of 1% and Southern Hemisphere has a correlation value of 11%. This shows that there is a low relationship between Wind Speed and Latitude in both Northern and Southern Hemisphere and results show many outliers."
   ]
  },
  {
   "cell_type": "code",
   "execution_count": null,
   "metadata": {},
   "outputs": [],
   "source": []
  }
 ],
 "metadata": {
  "anaconda-cloud": {},
  "kernel_info": {
   "name": "python3"
  },
  "kernelspec": {
   "display_name": "Python 3 (ipykernel)",
   "language": "python",
   "name": "python3"
  },
  "language_info": {
   "codemirror_mode": {
    "name": "ipython",
    "version": 3
   },
   "file_extension": ".py",
   "mimetype": "text/x-python",
   "name": "python",
   "nbconvert_exporter": "python",
   "pygments_lexer": "ipython3",
   "version": "3.9.12"
  },
  "latex_envs": {
   "LaTeX_envs_menu_present": true,
   "autoclose": false,
   "autocomplete": true,
   "bibliofile": "biblio.bib",
   "cite_by": "apalike",
   "current_citInitial": 1,
   "eqLabelWithNumbers": true,
   "eqNumInitial": 1,
   "hotkeys": {
    "equation": "Ctrl-E",
    "itemize": "Ctrl-I"
   },
   "labels_anchors": false,
   "latex_user_defs": false,
   "report_style_numbering": false,
   "user_envs_cfg": false
  },
  "nteract": {
   "version": "0.12.3"
  },
  "vscode": {
   "interpreter": {
    "hash": "27d37a77e61bb3b1793f89f9d5f9a5bdcbf780ed1fbe6b395e8c4f3b69cdbc0f"
   }
  }
 },
 "nbformat": 4,
 "nbformat_minor": 4
}
